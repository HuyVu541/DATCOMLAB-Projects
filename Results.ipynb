{
 "cells": [
  {
   "cell_type": "code",
   "execution_count": 40,
   "metadata": {},
   "outputs": [],
   "source": [
    "import re\n",
    "import pandas as pd\n",
    "import numpy as np"
   ]
  },
  {
   "cell_type": "code",
   "execution_count": 41,
   "metadata": {},
   "outputs": [],
   "source": [
    "ticker = []\n",
    "profit = []\n",
    "growth = []\n",
    "start = []\n",
    "end = []"
   ]
  },
  {
   "cell_type": "code",
   "execution_count": 42,
   "metadata": {},
   "outputs": [],
   "source": [
    "for k in range(1, 4):\n",
    "    content = open(f'Pattern Matching Results({k}).txt', 'r', encoding=\"utf8\").read()\n",
    "    content = [text.strip() for text in content.split('\\n')]\n",
    "\n",
    "    for i in range(0, len(content) - 1, 2):\n",
    "        ticker.append(re.findall(r'(\\w+):', content[i])[0])\n",
    "        profit_and_growth = re.findall(r'(-?\\d.+)%\\s+><\\s+(-?\\d.+)%', content[i])[0]\n",
    "        profit.append(float(profit_and_growth[0]))\n",
    "        growth.append(float(profit_and_growth[1]))\n",
    "        start_and_end = re.findall(r'\\d{4}-\\d{2}-\\d{2}', content[i+1])\n",
    "        start.append(start_and_end[0])\n",
    "        end.append(start_and_end[1])\n",
    "    "
   ]
  },
  {
   "cell_type": "code",
   "execution_count": 43,
   "metadata": {},
   "outputs": [],
   "source": [
    "df = pd.DataFrame({'Ticker' : ticker, 'Profit(%)' : profit, 'Growth(%)' : growth, 'Start' : start, 'End' : end})"
   ]
  },
  {
   "cell_type": "code",
   "execution_count": 44,
   "metadata": {},
   "outputs": [],
   "source": [
    "df['Difference(%)'] = df['Profit(%)'] - df['Growth(%)']"
   ]
  },
  {
   "cell_type": "code",
   "execution_count": 45,
   "metadata": {},
   "outputs": [],
   "source": [
    "df.to_csv('Pattern_Matching_Results.csv', index=False)"
   ]
  },
  {
   "cell_type": "code",
   "execution_count": null,
   "metadata": {},
   "outputs": [],
   "source": []
  }
 ],
 "metadata": {
  "kernelspec": {
   "display_name": "Python 3",
   "language": "python",
   "name": "python3"
  },
  "language_info": {
   "codemirror_mode": {
    "name": "ipython",
    "version": 3
   },
   "file_extension": ".py",
   "mimetype": "text/x-python",
   "name": "python",
   "nbconvert_exporter": "python",
   "pygments_lexer": "ipython3",
   "version": "3.12.5"
  }
 },
 "nbformat": 4,
 "nbformat_minor": 2
}
