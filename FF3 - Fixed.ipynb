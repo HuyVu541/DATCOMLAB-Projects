{
 "cells": [
  {
   "cell_type": "code",
   "execution_count": 24,
   "metadata": {},
   "outputs": [],
   "source": [
    "from vnstock3 import Vnstock\n",
    "import pandas as pd\n",
    "import numpy as np \n",
    "import matplotlib.pyplot as plt\n",
    "import datetime as dt\n",
    "import statistics \n",
    "from datetime import datetime, timedelta\n",
    "import copy\n"
   ]
  },
  {
   "cell_type": "code",
   "execution_count": 25,
   "metadata": {},
   "outputs": [],
   "source": [
    "from sklearn.linear_model import LinearRegression\n",
    "from sklearn.metrics import mean_squared_error, r2_score\n",
    "from sklearn.neural_network import MLPRegressor"
   ]
  },
  {
   "cell_type": "code",
   "execution_count": 26,
   "metadata": {},
   "outputs": [],
   "source": [
    "import warnings\n",
    "\n",
    "# Suppress all warnings\n",
    "warnings.filterwarnings('ignore')"
   ]
  },
  {
   "cell_type": "code",
   "execution_count": 27,
   "metadata": {},
   "outputs": [
    {
     "name": "stderr",
     "output_type": "stream",
     "text": [
      "2024-12-12 13:06:06 - vnstock3.common.vnstock - INFO - Mã chứng khoán không được chỉ định, chương trình mặc định sử dụng VN30F1M\n",
      "2024-12-12 13:06:06 - vnstock3.common.data.data_explorer - INFO - Mã chứng khoán không được chỉ định, chương trình mặc định sử dụng VN30F1M\n",
      "2024-12-12 13:06:06 - vnstock3.common.data.data_explorer - WARNING - Thông tin niêm yết & giao dịch sẽ được truy xuất từ TCBS\n"
     ]
    },
    {
     "data": {
      "text/plain": [
       "array(['ACB', 'BCM', 'BID', 'BVH', 'CTG', 'FPT', 'GAS', 'GVR', 'HDB',\n",
       "       'HPG', 'MBB', 'MSN', 'MWG', 'PLX', 'POW', 'SAB', 'SHB', 'SSI',\n",
       "       'STB', 'TCB', 'TPB', 'VCB', 'VHM', 'VIB', 'VIC', 'VJC', 'VNM',\n",
       "       'VPB', 'VRE'], dtype=object)"
      ]
     },
     "execution_count": 27,
     "metadata": {},
     "output_type": "execute_result"
    }
   ],
   "source": [
    "stock = Vnstock().stock(source='VCI')\n",
    "vn30_tickers = stock.listing.symbols_by_group('VN30').values\n",
    "vn30_tickers = np.delete(vn30_tickers, np.where(vn30_tickers == 'SSB')) # SSB chỉ có giá trị từ 2021 (quá ít data để sử dụng)\n",
    "vn30_tickers"
   ]
  },
  {
   "cell_type": "code",
   "execution_count": 28,
   "metadata": {},
   "outputs": [
    {
     "data": {
      "text/plain": [
       "array(['AAA', 'ACB', 'ANV', 'ASM', 'BCG', 'BCM', 'BID', 'BMP', 'BSI',\n",
       "       'BVH', 'BWE', 'CII', 'CMG', 'CRE', 'CTD', 'CTG', 'CTR', 'DBC',\n",
       "       'DCM', 'DGC', 'DGW', 'DIG', 'DPM', 'DXG', 'DXS', 'EIB', 'EVF',\n",
       "       'FPT', 'FRT', 'FTS', 'GAS', 'GEX', 'GMD', 'GVR', 'HAG', 'HCM',\n",
       "       'HDB', 'HDC', 'HDG', 'HHV', 'HPG', 'HSG', 'HT1', 'IMP', 'KBC',\n",
       "       'KDC', 'KDH', 'KOS', 'LPB', 'MBB', 'MSB', 'MSN', 'MWG', 'NKG',\n",
       "       'NLG', 'NT2', 'NVL', 'OCB', 'PAN', 'PC1', 'PDR', 'PHR', 'PLX',\n",
       "       'PNJ', 'POW', 'PPC', 'PTB', 'PVD', 'PVT', 'REE', 'SAB', 'SBT',\n",
       "       'SCS', 'SHB', 'SIP', 'SJS', 'SSB', 'SSI', 'STB', 'SZC', 'TCB',\n",
       "       'TCH', 'TLG', 'TPB', 'VCB', 'VCG', 'VCI', 'VGC', 'VHC', 'VHM',\n",
       "       'VIB', 'VIC', 'VIX', 'VJC', 'VND', 'VNM', 'VPB', 'VPI', 'VRE',\n",
       "       'VSH'], dtype=object)"
      ]
     },
     "execution_count": 28,
     "metadata": {},
     "output_type": "execute_result"
    }
   ],
   "source": [
    "stock.listing.symbols_by_group('VN100').values"
   ]
  },
  {
   "cell_type": "code",
   "execution_count": null,
   "metadata": {},
   "outputs": [
    {
     "name": "stderr",
     "output_type": "stream",
     "text": [
      "2024-12-12 20:16:33 - vnstock3.common.data.data_explorer - WARNING - Thông tin niêm yết & giao dịch sẽ được truy xuất từ TCBS\n"
     ]
    }
   ],
   "source": [
    "global_start = '2018-12-01'\n",
    "global_end = '2024-09-30'\n",
    "\n",
    "market_data = Vnstock().stock(symbol = 'VNINDEX', source = 'VCI').\\\n",
    "quote.history(start = global_start, end = global_end, interval = '1M')\n",
    "market_data['profit'] = (market_data['close'] - market_data['close'].shift(1)) / market_data['close'].shift(1) * 100\n",
    "market_data.dropna(inplace = True)\n",
    "bond_data = pd.read_csv('Vietnam_10_year_Government_Bond.csv')\n",
    "bond_data.columns = ['time', 'close', 'open',' high', 'low', 'change']\n",
    "bond_data['time'] = pd.to_datetime(bond_data['time'])\n",
    "bond_data['profit'] = ((1 + bond_data['close']/100) ** (1/12) - 1) * 100"
   ]
  },
  {
   "cell_type": "code",
   "execution_count": 72,
   "metadata": {},
   "outputs": [
    {
     "data": {
      "text/html": [
       "<div>\n",
       "<style scoped>\n",
       "    .dataframe tbody tr th:only-of-type {\n",
       "        vertical-align: middle;\n",
       "    }\n",
       "\n",
       "    .dataframe tbody tr th {\n",
       "        vertical-align: top;\n",
       "    }\n",
       "\n",
       "    .dataframe thead th {\n",
       "        text-align: right;\n",
       "    }\n",
       "</style>\n",
       "<table border=\"1\" class=\"dataframe\">\n",
       "  <thead>\n",
       "    <tr style=\"text-align: right;\">\n",
       "      <th></th>\n",
       "      <th>time</th>\n",
       "      <th>open</th>\n",
       "      <th>high</th>\n",
       "      <th>low</th>\n",
       "      <th>close</th>\n",
       "      <th>volume</th>\n",
       "    </tr>\n",
       "  </thead>\n",
       "  <tbody>\n",
       "    <tr>\n",
       "      <th>0</th>\n",
       "      <td>2018-12-31</td>\n",
       "      <td>937.70</td>\n",
       "      <td>966.83</td>\n",
       "      <td>882.17</td>\n",
       "      <td>892.54</td>\n",
       "      <td>2737262950</td>\n",
       "    </tr>\n",
       "    <tr>\n",
       "      <th>1</th>\n",
       "      <td>2019-01-31</td>\n",
       "      <td>900.10</td>\n",
       "      <td>920.36</td>\n",
       "      <td>861.85</td>\n",
       "      <td>910.65</td>\n",
       "      <td>2336924730</td>\n",
       "    </tr>\n",
       "    <tr>\n",
       "      <th>2</th>\n",
       "      <td>2019-02-28</td>\n",
       "      <td>911.98</td>\n",
       "      <td>999.90</td>\n",
       "      <td>907.52</td>\n",
       "      <td>965.47</td>\n",
       "      <td>2521514923</td>\n",
       "    </tr>\n",
       "    <tr>\n",
       "      <th>3</th>\n",
       "      <td>2019-03-31</td>\n",
       "      <td>971.05</td>\n",
       "      <td>1014.51</td>\n",
       "      <td>964.76</td>\n",
       "      <td>980.76</td>\n",
       "      <td>3650841840</td>\n",
       "    </tr>\n",
       "    <tr>\n",
       "      <th>4</th>\n",
       "      <td>2019-04-30</td>\n",
       "      <td>984.89</td>\n",
       "      <td>1000.02</td>\n",
       "      <td>959.33</td>\n",
       "      <td>979.64</td>\n",
       "      <td>2414442910</td>\n",
       "    </tr>\n",
       "    <tr>\n",
       "      <th>...</th>\n",
       "      <td>...</td>\n",
       "      <td>...</td>\n",
       "      <td>...</td>\n",
       "      <td>...</td>\n",
       "      <td>...</td>\n",
       "      <td>...</td>\n",
       "    </tr>\n",
       "    <tr>\n",
       "      <th>65</th>\n",
       "      <td>2024-05-31</td>\n",
       "      <td>1212.13</td>\n",
       "      <td>1285.63</td>\n",
       "      <td>1206.28</td>\n",
       "      <td>1261.72</td>\n",
       "      <td>19391349135</td>\n",
       "    </tr>\n",
       "    <tr>\n",
       "      <th>66</th>\n",
       "      <td>2024-06-30</td>\n",
       "      <td>1272.37</td>\n",
       "      <td>1306.01</td>\n",
       "      <td>1240.15</td>\n",
       "      <td>1245.32</td>\n",
       "      <td>18124606963</td>\n",
       "    </tr>\n",
       "    <tr>\n",
       "      <th>67</th>\n",
       "      <td>2024-07-31</td>\n",
       "      <td>1245.22</td>\n",
       "      <td>1297.96</td>\n",
       "      <td>1218.65</td>\n",
       "      <td>1251.51</td>\n",
       "      <td>15636641832</td>\n",
       "    </tr>\n",
       "    <tr>\n",
       "      <th>68</th>\n",
       "      <td>2024-08-31</td>\n",
       "      <td>1251.51</td>\n",
       "      <td>1290.45</td>\n",
       "      <td>1184.53</td>\n",
       "      <td>1283.87</td>\n",
       "      <td>15466873122</td>\n",
       "    </tr>\n",
       "    <tr>\n",
       "      <th>69</th>\n",
       "      <td>2024-09-30</td>\n",
       "      <td>1273.86</td>\n",
       "      <td>1300.31</td>\n",
       "      <td>1238.69</td>\n",
       "      <td>1287.94</td>\n",
       "      <td>13214679781</td>\n",
       "    </tr>\n",
       "  </tbody>\n",
       "</table>\n",
       "<p>70 rows × 6 columns</p>\n",
       "</div>"
      ],
      "text/plain": [
       "         time     open     high      low    close       volume\n",
       "0  2018-12-31   937.70   966.83   882.17   892.54   2737262950\n",
       "1  2019-01-31   900.10   920.36   861.85   910.65   2336924730\n",
       "2  2019-02-28   911.98   999.90   907.52   965.47   2521514923\n",
       "3  2019-03-31   971.05  1014.51   964.76   980.76   3650841840\n",
       "4  2019-04-30   984.89  1000.02   959.33   979.64   2414442910\n",
       "..        ...      ...      ...      ...      ...          ...\n",
       "65 2024-05-31  1212.13  1285.63  1206.28  1261.72  19391349135\n",
       "66 2024-06-30  1272.37  1306.01  1240.15  1245.32  18124606963\n",
       "67 2024-07-31  1245.22  1297.96  1218.65  1251.51  15636641832\n",
       "68 2024-08-31  1251.51  1290.45  1184.53  1283.87  15466873122\n",
       "69 2024-09-30  1273.86  1300.31  1238.69  1287.94  13214679781\n",
       "\n",
       "[70 rows x 6 columns]"
      ]
     },
     "execution_count": 72,
     "metadata": {},
     "output_type": "execute_result"
    }
   ],
   "source": [
    "market_data"
   ]
  },
  {
   "cell_type": "code",
   "execution_count": 30,
   "metadata": {},
   "outputs": [],
   "source": [
    "# vn100_tickers = stock.listing.symbols_by_group('VN30').values\n",
    "# vn100_tickers"
   ]
  },
  {
   "cell_type": "code",
   "execution_count": 31,
   "metadata": {},
   "outputs": [
    {
     "name": "stderr",
     "output_type": "stream",
     "text": [
      "2024-12-12 13:06:19 - vnstock3.common.data.data_explorer - WARNING - Thông tin niêm yết & giao dịch sẽ được truy xuất từ TCBS\n"
     ]
    },
    {
     "data": {
      "text/html": [
       "<div>\n",
       "<style scoped>\n",
       "    .dataframe tbody tr th:only-of-type {\n",
       "        vertical-align: middle;\n",
       "    }\n",
       "\n",
       "    .dataframe tbody tr th {\n",
       "        vertical-align: top;\n",
       "    }\n",
       "\n",
       "    .dataframe thead th {\n",
       "        text-align: right;\n",
       "    }\n",
       "</style>\n",
       "<table border=\"1\" class=\"dataframe\">\n",
       "  <thead>\n",
       "    <tr style=\"text-align: right;\">\n",
       "      <th></th>\n",
       "      <th>time</th>\n",
       "      <th>open</th>\n",
       "      <th>high</th>\n",
       "      <th>low</th>\n",
       "      <th>close</th>\n",
       "      <th>volume</th>\n",
       "    </tr>\n",
       "  </thead>\n",
       "  <tbody>\n",
       "    <tr>\n",
       "      <th>0</th>\n",
       "      <td>2018-12-31</td>\n",
       "      <td>896.50</td>\n",
       "      <td>935.33</td>\n",
       "      <td>850.33</td>\n",
       "      <td>854.99</td>\n",
       "      <td>933516480</td>\n",
       "    </tr>\n",
       "    <tr>\n",
       "      <th>1</th>\n",
       "      <td>2019-01-31</td>\n",
       "      <td>855.01</td>\n",
       "      <td>874.09</td>\n",
       "      <td>821.83</td>\n",
       "      <td>866.06</td>\n",
       "      <td>766764380</td>\n",
       "    </tr>\n",
       "    <tr>\n",
       "      <th>2</th>\n",
       "      <td>2019-02-28</td>\n",
       "      <td>866.01</td>\n",
       "      <td>944.01</td>\n",
       "      <td>859.38</td>\n",
       "      <td>904.98</td>\n",
       "      <td>884913030</td>\n",
       "    </tr>\n",
       "    <tr>\n",
       "      <th>3</th>\n",
       "      <td>2019-03-31</td>\n",
       "      <td>904.96</td>\n",
       "      <td>939.17</td>\n",
       "      <td>889.17</td>\n",
       "      <td>900.13</td>\n",
       "      <td>1044225870</td>\n",
       "    </tr>\n",
       "    <tr>\n",
       "      <th>4</th>\n",
       "      <td>2019-04-30</td>\n",
       "      <td>900.17</td>\n",
       "      <td>912.94</td>\n",
       "      <td>873.55</td>\n",
       "      <td>890.55</td>\n",
       "      <td>642738550</td>\n",
       "    </tr>\n",
       "    <tr>\n",
       "      <th>...</th>\n",
       "      <td>...</td>\n",
       "      <td>...</td>\n",
       "      <td>...</td>\n",
       "      <td>...</td>\n",
       "      <td>...</td>\n",
       "      <td>...</td>\n",
       "    </tr>\n",
       "    <tr>\n",
       "      <th>65</th>\n",
       "      <td>2024-05-31</td>\n",
       "      <td>1244.15</td>\n",
       "      <td>1322.13</td>\n",
       "      <td>1239.02</td>\n",
       "      <td>1275.97</td>\n",
       "      <td>5999064371</td>\n",
       "    </tr>\n",
       "    <tr>\n",
       "      <th>66</th>\n",
       "      <td>2024-06-30</td>\n",
       "      <td>1285.07</td>\n",
       "      <td>1339.17</td>\n",
       "      <td>1272.27</td>\n",
       "      <td>1278.32</td>\n",
       "      <td>6066253975</td>\n",
       "    </tr>\n",
       "    <tr>\n",
       "      <th>67</th>\n",
       "      <td>2024-07-31</td>\n",
       "      <td>1278.22</td>\n",
       "      <td>1324.91</td>\n",
       "      <td>1262.77</td>\n",
       "      <td>1299.09</td>\n",
       "      <td>5638379686</td>\n",
       "    </tr>\n",
       "    <tr>\n",
       "      <th>68</th>\n",
       "      <td>2024-08-31</td>\n",
       "      <td>1299.09</td>\n",
       "      <td>1333.56</td>\n",
       "      <td>1226.37</td>\n",
       "      <td>1331.52</td>\n",
       "      <td>5556648952</td>\n",
       "    </tr>\n",
       "    <tr>\n",
       "      <th>69</th>\n",
       "      <td>2024-09-30</td>\n",
       "      <td>1319.88</td>\n",
       "      <td>1361.20</td>\n",
       "      <td>1281.16</td>\n",
       "      <td>1352.56</td>\n",
       "      <td>5680773571</td>\n",
       "    </tr>\n",
       "  </tbody>\n",
       "</table>\n",
       "<p>70 rows × 6 columns</p>\n",
       "</div>"
      ],
      "text/plain": [
       "         time     open     high      low    close      volume\n",
       "0  2018-12-31   896.50   935.33   850.33   854.99   933516480\n",
       "1  2019-01-31   855.01   874.09   821.83   866.06   766764380\n",
       "2  2019-02-28   866.01   944.01   859.38   904.98   884913030\n",
       "3  2019-03-31   904.96   939.17   889.17   900.13  1044225870\n",
       "4  2019-04-30   900.17   912.94   873.55   890.55   642738550\n",
       "..        ...      ...      ...      ...      ...         ...\n",
       "65 2024-05-31  1244.15  1322.13  1239.02  1275.97  5999064371\n",
       "66 2024-06-30  1285.07  1339.17  1272.27  1278.32  6066253975\n",
       "67 2024-07-31  1278.22  1324.91  1262.77  1299.09  5638379686\n",
       "68 2024-08-31  1299.09  1333.56  1226.37  1331.52  5556648952\n",
       "69 2024-09-30  1319.88  1361.20  1281.16  1352.56  5680773571\n",
       "\n",
       "[70 rows x 6 columns]"
      ]
     },
     "execution_count": 31,
     "metadata": {},
     "output_type": "execute_result"
    }
   ],
   "source": [
    "stock = Vnstock().stock(symbol = \"VN30\", source = 'VCI')\n",
    "history = stock.quote.history(start = start, end = end, interval = '1M')\n",
    "history"
   ]
  },
  {
   "cell_type": "code",
   "execution_count": 32,
   "metadata": {},
   "outputs": [],
   "source": [
    "# quarter_start_months = {1: '01', 2: '04', 3: '07', 4: '10'}\n",
    "\n",
    "# class Company:\n",
    "#     def __init__(self, ticker, start = '2018-12-01', end = '2024-09-30'):\n",
    "#         self.ticker = ticker\n",
    "#         stock = Vnstock().stock(symbol = self.ticker, source = 'VCI')\n",
    "#         self.history = stock.quote.history(start = start, end = end, interval = '1M')\n",
    "        \n",
    "#         self.history.loc[:, ['open', 'close', 'high', 'low']] = self.history[['open', 'close', 'high', 'low']] * 1000\n",
    "#         self.ratio = stock.finance.ratio(period='quarter', lang='en', dropna=True)\n",
    "#         self.balance = stock.finance.balance_sheet(period='quarter', lang='en', dropna=True)\n",
    "#         self.history['shares'] = np.nan\n",
    "\n",
    "#         # Tính market cap, và book value\n",
    "#         meta = self.ratio['Meta']\n",
    "#         meta['date'] = np.nan\n",
    "#         stats = self.ratio['Chỉ tiêu định giá']\n",
    "#         for i in meta.index:\n",
    "#             meta.loc[i, 'date'] = f'{meta['yearReport'][i]}-{quarter_start_months[meta['lengthReport'][i]]}-01'\n",
    "#         meta['date'] = pd.to_datetime(meta['date'])\n",
    "#         self.balance['date'] = np.nan\n",
    "#         for i in self.balance.index:\n",
    "#             self.balance.loc[i, 'date'] = f'{self.balance['yearReport'][i]}-{quarter_start_months[self.balance['lengthReport'][i]]}-01'\n",
    "#         self.balance.loc[:, 'date'] = pd.to_datetime(self.balance['date'])\n",
    "\n",
    "#         for i in self.history.index:\n",
    "#             target_date = (meta['date'] - self.history['time'][i]).abs().argmin()\n",
    "#             self.history.loc[i, 'shares'] = stats['Outstanding Share (Mil. Shares)'][target_date]\n",
    "#             self.history.loc[i, 'book_value'] = self.balance[\"OWNER'S EQUITY(Bn.VND)\"][target_date]\n",
    "\n",
    "#         self.history['market_cap'] = self.history['shares'] * self.history['close']\n",
    "\n",
    "#         # Tính Book to Market Ratio\n",
    "#         self.history.loc[:, 'btm'] = self.history['book_value'] / self.history['market_cap']\n",
    "\n",
    "#         self.history.loc[:, 'hml'] = self.history['btm'].apply(lambda x : 'high' if x >= 1 else 'low')\n",
    "\n",
    "#         self.history.loc[:, 'monthly_profit'] = (self.history['close'] - self.history['close'].shift(1)) / self.history['close'].shift(1) * 100\n",
    "\n",
    "#         self.history = self.history.dropna()"
   ]
  },
  {
   "cell_type": "code",
   "execution_count": null,
   "metadata": {},
   "outputs": [],
   "source": [
    "quarter_start_months = {1: '01', 2: '04', 3: '07', 4: '10'}\n",
    "\n",
    "class Company:\n",
    "    def __init__(self, ticker, start, end):\n",
    "        self.ticker = ticker\n",
    "        stock = Vnstock().stock(symbol = self.ticker, source = 'VCI')\n",
    "        self.history = stock.quote.history(start = start, end = end, interval = '1M')\n",
    "        \n",
    "        self.history.loc[:, ['open', 'close', 'high', 'low']] = self.history[['open', 'close', 'high', 'low']] * 1000\n",
    "        self.ratio = stock.finance.ratio(period='quarter', lang='en', dropna=True)\n",
    "        self.balance = stock.finance.balance_sheet(period='quarter', lang='en', dropna=True)\n",
    "        self.history['shares'] = np.nan\n",
    "\n",
    "        # Tính market cap, và book value\n",
    "        meta = self.ratio['Meta']\n",
    "        meta['date'] = np.nan\n",
    "        stats = self.ratio['Chỉ tiêu định giá']\n",
    "        for i in meta.index:\n",
    "            meta.loc[i, 'date'] = f'{meta['yearReport'][i]}-{quarter_start_months[meta['lengthReport'][i]]}-01'\n",
    "        meta['date'] = pd.to_datetime(meta['date'])\n",
    "        self.balance['date'] = np.nan\n",
    "        for i in self.balance.index:\n",
    "            self.balance.loc[i, 'date'] = f'{self.balance['yearReport'][i]}-{quarter_start_months[self.balance['lengthReport'][i]]}-01'\n",
    "        self.balance.loc[:, 'date'] = pd.to_datetime(self.balance['date'])\n",
    "\n",
    "        for date in meta['date'].index:\n",
    "            if (meta.loc[date, 'date'] < pd.to_datetime(end)) and (meta.loc[date, 'date'] > pd.to_datetime(start)):\n",
    "                temp_day = 0\n",
    "                while True:\n",
    "                    if len(self.history.loc[self.history['time'] == meta.loc[date, 'date'] + timedelta(days = temp_day), 'shares']) == 1:\n",
    "                        self.history.loc[self.history['time'] == meta.loc[date, 'date'] + timedelta(days = temp_day), 'shares'] = stats.loc[date, 'Outstanding Share (Mil. Shares)']\n",
    "                        self.history.loc[self.history['time'] == meta.loc[date, 'date'] + timedelta(days = temp_day), 'book_value'] = self.balance.loc[date, \"OWNER'S EQUITY(Bn.VND)\"]\n",
    "                        break\n",
    "                    elif len(self.history.loc[self.history['time'] == meta.loc[date, 'date'] - timedelta(days = temp_day), 'shares']) == 1:\n",
    "                        self.history.loc[self.history['time'] == meta.loc[date, 'date'] - timedelta(days = temp_day), 'shares'] = stats.loc[date, 'Outstanding Share (Mil. Shares)']\n",
    "                        self.history.loc[self.history['time'] == meta.loc[date, 'date'] - timedelta(days = temp_day), 'book_value'] = self.balance.loc[date, \"OWNER'S EQUITY(Bn.VND)\"]\n",
    "                        break\n",
    "                    temp_day += 1\n",
    "        self.history = self.history.fillna(method = 'ffill').fillna(method = 'bfill')\n",
    "        self.history['market_cap'] = self.history['shares'] * self.history['close']\n",
    "\n",
    "        # Tính Book to Market Ratio\n",
    "        self.history.loc[:, 'btm'] = self.history['book_value'] / self.history['market_cap']\n",
    "\n",
    "        self.history.loc[:, 'hml'] = self.history['btm'].apply(lambda x : 'high' if x >= 1 else 'low')\n",
    "\n",
    "        self.history.loc[:, 'monthly_profit'] = (self.history['close'] - self.history['close'].shift(1)) / self.history['close'].shift(1) * 100\n",
    "\n",
    "        self.history = self.history.iloc[1:]"
   ]
  },
  {
   "cell_type": "code",
   "execution_count": null,
   "metadata": {},
   "outputs": [],
   "source": [
    "\n",
    "class Portfolio:\n",
    "    def __init__(self, tickers, start, end):\n",
    "        self.tickers = tickers  \n",
    "        self.data = {}\n",
    "        self.betas = []\n",
    "        self.start = start\n",
    "        self.end = end\n",
    "        \n",
    "    def create_profiles(self):\n",
    "        for ticker in self.tickers:\n",
    "            print(ticker)\n",
    "            self.data[ticker] = Company(ticker, start = self.start, end = self.end)\n",
    "        for ticker in self.tickers:\n",
    "            self.data[ticker].history['smb'] = np.nan\n",
    "\n",
    "    def create_sub_portfolio(self, sub_tickers):\n",
    "        new_portfolio = Portfolio(tickers = sub_tickers)\n",
    "        for ticker in sub_tickers:\n",
    "            new_portfolio.data[ticker] = copy.deepcopy(self.data[ticker])\n",
    "        return new_portfolio\n",
    "    \n",
    "    def evaluate_smb(self):\n",
    "        aggregate_market_cap = pd.DataFrame([], columns= self.tickers)\n",
    "\n",
    "        for index in self.data[self.tickers[0]].history.index:\n",
    "            for ticker in self.tickers: \n",
    "                aggregate_market_cap.loc[index, ticker] = self.data[ticker].history.loc[index, 'market_cap']\n",
    "                \n",
    "        for index in aggregate_market_cap.index:\n",
    "            percentiles = np.percentile(aggregate_market_cap.loc[index].values, [10, 30]) \n",
    "            for ticker in self.tickers:\n",
    "                x = aggregate_market_cap.loc[index, ticker] \n",
    "                if x <= percentiles[0]:\n",
    "                    self.data[ticker].history.loc[index, 'smb'] = 'small' \n",
    "                elif x <= percentiles[1]:\n",
    "                    self.data[ticker].history.loc[index, 'smb'] = 'mid'\n",
    "                else:\n",
    "                    self.data[ticker].history.loc[index, 'smb'] = 'big'\n",
    "\n",
    "    def setup_regression(self, market_data, bond_data):\n",
    "        regression_data = pd.DataFrame([], columns= ['time', 'excess_return', 'mp', 'smb', 'hml'])\n",
    "\n",
    "        for index in self.data[self.tickers[0]].history.index:\n",
    "            date = self.data[self.tickers[0]].history.loc[index, 'time']\n",
    "            smb = 0\n",
    "            hml = 0\n",
    "\n",
    "            temp_day = 0\n",
    "            \n",
    "            while True:\n",
    "                try:         # Because sometimes the date is off by 1 or 2 days\n",
    "                    rf = bond_data[bond_data['time'] == date + timedelta(days = temp_day)]['profit'].values[0]\n",
    "                    break\n",
    "                except:\n",
    "                    temp_day -= 1\n",
    "                    \n",
    "            mp = market_data.loc[index, 'profit'] - rf\n",
    "\n",
    "            for ticker in self.tickers:\n",
    "                if self.data[ticker].history.loc[index, 'smb'] == 'small':\n",
    "                    smb += self.data[ticker].history.loc[index, 'monthly_profit']\n",
    "                elif self.data[ticker].history.loc[index, 'smb'] == 'big':\n",
    "                    smb -= self.data[ticker].history.loc[index, 'monthly_profit']\n",
    "                if self.data[ticker].history.loc[index, 'hml'] == 'high':\n",
    "                    hml += self.data[ticker].history.loc[index, 'monthly_profit']\n",
    "                else:\n",
    "                    hml -= self.data[ticker].history.loc[index, 'monthly_profit']\n",
    "            \n",
    "            regression_data.loc[index, 'smb'] = smb\n",
    "            regression_data.loc[index, 'hml'] = hml\n",
    "            regression_data.loc[index, 'mp'] = mp\n",
    "            regression_data.loc[index, 'rf'] = rf\n",
    "            regression_data.loc[index, 'time'] = date\n",
    "        # regression_data['excess_return'] = regression_data['excess_return'].shift(-1)\n",
    "\n",
    "        # regression_data.dropna(inplace = True)\n",
    "        return regression_data\n",
    "        \n",
    "    def ff3_metrics(self, og_regression_data, use_data = 'newest', cutoff = None):\n",
    "        # TÍNH EXCESS RETURN CHO TỪNG PORTFOLIO LẺ\n",
    "        regression_data = copy.deepcopy(og_regression_data)\n",
    "\n",
    "        for index in regression_data.index:\n",
    "            total_return = np.mean([self.data[ticker].history.loc[index, 'monthly_profit'] for ticker in self.tickers]) - regression_data.loc[index, 'rf']\n",
    "            regression_data.loc[index, 'excess_return'] = total_return\n",
    "\n",
    "        if cutoff is None:\n",
    "            cutoff = round((len(regression_data) * 60/100))\n",
    "        \n",
    "        train_set = regression_data[:cutoff]\n",
    "        test_set = regression_data[cutoff:]\n",
    "\n",
    "        y_train = train_set['excess_return']\n",
    "        \n",
    "        x_train = train_set.drop(columns = ['time', 'excess_return', 'rf'])\n",
    "\n",
    "        y_test = test_set['excess_return']\n",
    "        if use_data == 'newest':\n",
    "            x_test = test_set.drop(columns = ['time', 'excess_return', 'rf'])\n",
    "\n",
    "        elif use_data == 'average':\n",
    "            x_test = test_set.drop(columns = ['time', 'excess_return', 'rf'])\n",
    "            for column in x_test.columns:\n",
    "                m = np.mean(x_train[column])\n",
    "                for index in x_test.index:\n",
    "                    x_test.loc[index, column] = m\n",
    "\n",
    "        model = LinearRegression()\n",
    "        # model = MLPRegressor(hidden_layer_sizes=(10,), max_iter=1000, random_state=42)\n",
    "\n",
    "        model.fit(x_train, y_train)\n",
    "        \n",
    "        y_train_pred = model.predict(x_train)\n",
    "        \n",
    "        mse_train = mean_squared_error(y_train, y_train_pred)\n",
    "\n",
    "        y_pred = model.predict(x_test)\n",
    "        mse_test = mean_squared_error(y_test, y_pred)\n",
    "        r2_train = r2_score(y_train, y_train_pred)\n",
    "        r2_test = r2_score(y_test, y_pred)\n",
    "\n",
    "        return mse_train, mse_test, r2_train, r2_test, model.coef_"
   ]
  },
  {
   "cell_type": "code",
   "execution_count": 35,
   "metadata": {},
   "outputs": [
    {
     "name": "stdout",
     "output_type": "stream",
     "text": [
      "ACB\n"
     ]
    },
    {
     "name": "stderr",
     "output_type": "stream",
     "text": [
      "2024-12-12 13:06:20 - vnstock3.common.data.data_explorer - WARNING - Thông tin niêm yết & giao dịch sẽ được truy xuất từ TCBS\n"
     ]
    },
    {
     "name": "stdout",
     "output_type": "stream",
     "text": [
      "BCM\n"
     ]
    },
    {
     "name": "stderr",
     "output_type": "stream",
     "text": [
      "2024-12-12 13:06:22 - vnstock3.common.data.data_explorer - WARNING - Thông tin niêm yết & giao dịch sẽ được truy xuất từ TCBS\n"
     ]
    },
    {
     "name": "stdout",
     "output_type": "stream",
     "text": [
      "BID\n"
     ]
    },
    {
     "name": "stderr",
     "output_type": "stream",
     "text": [
      "2024-12-12 13:06:36 - vnstock3.common.data.data_explorer - WARNING - Thông tin niêm yết & giao dịch sẽ được truy xuất từ TCBS\n"
     ]
    },
    {
     "name": "stdout",
     "output_type": "stream",
     "text": [
      "BVH\n"
     ]
    },
    {
     "name": "stderr",
     "output_type": "stream",
     "text": [
      "2024-12-12 13:06:48 - vnstock3.common.data.data_explorer - WARNING - Thông tin niêm yết & giao dịch sẽ được truy xuất từ TCBS\n"
     ]
    },
    {
     "name": "stdout",
     "output_type": "stream",
     "text": [
      "CTG\n"
     ]
    },
    {
     "name": "stderr",
     "output_type": "stream",
     "text": [
      "2024-12-12 13:06:57 - vnstock3.common.data.data_explorer - WARNING - Thông tin niêm yết & giao dịch sẽ được truy xuất từ TCBS\n"
     ]
    },
    {
     "name": "stdout",
     "output_type": "stream",
     "text": [
      "FPT\n"
     ]
    },
    {
     "name": "stderr",
     "output_type": "stream",
     "text": [
      "2024-12-12 13:07:11 - vnstock3.common.data.data_explorer - WARNING - Thông tin niêm yết & giao dịch sẽ được truy xuất từ TCBS\n"
     ]
    },
    {
     "name": "stdout",
     "output_type": "stream",
     "text": [
      "GAS\n"
     ]
    },
    {
     "name": "stderr",
     "output_type": "stream",
     "text": [
      "2024-12-12 13:07:25 - vnstock3.common.data.data_explorer - WARNING - Thông tin niêm yết & giao dịch sẽ được truy xuất từ TCBS\n"
     ]
    },
    {
     "name": "stdout",
     "output_type": "stream",
     "text": [
      "GVR\n"
     ]
    },
    {
     "name": "stderr",
     "output_type": "stream",
     "text": [
      "2024-12-12 13:07:28 - vnstock3.common.data.data_explorer - WARNING - Thông tin niêm yết & giao dịch sẽ được truy xuất từ TCBS\n"
     ]
    },
    {
     "name": "stdout",
     "output_type": "stream",
     "text": [
      "HDB\n"
     ]
    },
    {
     "name": "stderr",
     "output_type": "stream",
     "text": [
      "2024-12-12 13:07:54 - vnstock3.common.data.data_explorer - WARNING - Thông tin niêm yết & giao dịch sẽ được truy xuất từ TCBS\n"
     ]
    },
    {
     "name": "stdout",
     "output_type": "stream",
     "text": [
      "HPG\n"
     ]
    },
    {
     "name": "stderr",
     "output_type": "stream",
     "text": [
      "2024-12-12 13:07:58 - vnstock3.common.data.data_explorer - WARNING - Thông tin niêm yết & giao dịch sẽ được truy xuất từ TCBS\n"
     ]
    },
    {
     "name": "stdout",
     "output_type": "stream",
     "text": [
      "MBB\n"
     ]
    },
    {
     "name": "stderr",
     "output_type": "stream",
     "text": [
      "2024-12-12 13:08:24 - vnstock3.common.data.data_explorer - WARNING - Thông tin niêm yết & giao dịch sẽ được truy xuất từ TCBS\n"
     ]
    },
    {
     "name": "stdout",
     "output_type": "stream",
     "text": [
      "MSN\n"
     ]
    },
    {
     "name": "stderr",
     "output_type": "stream",
     "text": [
      "2024-12-12 13:08:27 - vnstock3.common.data.data_explorer - WARNING - Thông tin niêm yết & giao dịch sẽ được truy xuất từ TCBS\n"
     ]
    },
    {
     "name": "stdout",
     "output_type": "stream",
     "text": [
      "MWG\n"
     ]
    },
    {
     "name": "stderr",
     "output_type": "stream",
     "text": [
      "2024-12-12 13:08:41 - vnstock3.common.data.data_explorer - WARNING - Thông tin niêm yết & giao dịch sẽ được truy xuất từ TCBS\n"
     ]
    },
    {
     "name": "stdout",
     "output_type": "stream",
     "text": [
      "PLX\n"
     ]
    },
    {
     "name": "stderr",
     "output_type": "stream",
     "text": [
      "2024-12-12 13:08:50 - vnstock3.common.data.data_explorer - WARNING - Thông tin niêm yết & giao dịch sẽ được truy xuất từ TCBS\n"
     ]
    },
    {
     "name": "stdout",
     "output_type": "stream",
     "text": [
      "POW\n"
     ]
    },
    {
     "name": "stderr",
     "output_type": "stream",
     "text": [
      "2024-12-12 13:09:04 - vnstock3.common.data.data_explorer - WARNING - Thông tin niêm yết & giao dịch sẽ được truy xuất từ TCBS\n"
     ]
    },
    {
     "name": "stdout",
     "output_type": "stream",
     "text": [
      "SAB\n"
     ]
    },
    {
     "name": "stderr",
     "output_type": "stream",
     "text": [
      "2024-12-12 13:09:19 - vnstock3.common.data.data_explorer - WARNING - Thông tin niêm yết & giao dịch sẽ được truy xuất từ TCBS\n"
     ]
    },
    {
     "name": "stdout",
     "output_type": "stream",
     "text": [
      "SHB\n"
     ]
    },
    {
     "name": "stderr",
     "output_type": "stream",
     "text": [
      "2024-12-12 13:09:22 - vnstock3.common.data.data_explorer - WARNING - Thông tin niêm yết & giao dịch sẽ được truy xuất từ TCBS\n"
     ]
    },
    {
     "name": "stdout",
     "output_type": "stream",
     "text": [
      "SSI\n"
     ]
    },
    {
     "name": "stderr",
     "output_type": "stream",
     "text": [
      "2024-12-12 13:09:32 - vnstock3.common.data.data_explorer - WARNING - Thông tin niêm yết & giao dịch sẽ được truy xuất từ TCBS\n"
     ]
    },
    {
     "name": "stdout",
     "output_type": "stream",
     "text": [
      "STB\n"
     ]
    },
    {
     "name": "stderr",
     "output_type": "stream",
     "text": [
      "2024-12-12 13:09:46 - vnstock3.common.data.data_explorer - WARNING - Thông tin niêm yết & giao dịch sẽ được truy xuất từ TCBS\n"
     ]
    },
    {
     "name": "stdout",
     "output_type": "stream",
     "text": [
      "TCB\n"
     ]
    },
    {
     "name": "stderr",
     "output_type": "stream",
     "text": [
      "2024-12-12 13:10:00 - vnstock3.common.data.data_explorer - WARNING - Thông tin niêm yết & giao dịch sẽ được truy xuất từ TCBS\n"
     ]
    },
    {
     "name": "stdout",
     "output_type": "stream",
     "text": [
      "TPB\n"
     ]
    },
    {
     "name": "stderr",
     "output_type": "stream",
     "text": [
      "2024-12-12 13:10:03 - vnstock3.common.data.data_explorer - WARNING - Thông tin niêm yết & giao dịch sẽ được truy xuất từ TCBS\n"
     ]
    },
    {
     "name": "stdout",
     "output_type": "stream",
     "text": [
      "VCB\n"
     ]
    },
    {
     "name": "stderr",
     "output_type": "stream",
     "text": [
      "2024-12-12 13:10:29 - vnstock3.common.data.data_explorer - WARNING - Thông tin niêm yết & giao dịch sẽ được truy xuất từ TCBS\n"
     ]
    },
    {
     "name": "stdout",
     "output_type": "stream",
     "text": [
      "VHM\n"
     ]
    },
    {
     "name": "stderr",
     "output_type": "stream",
     "text": [
      "2024-12-12 13:10:32 - vnstock3.common.data.data_explorer - WARNING - Thông tin niêm yết & giao dịch sẽ được truy xuất từ TCBS\n"
     ]
    },
    {
     "name": "stdout",
     "output_type": "stream",
     "text": [
      "VIB\n"
     ]
    },
    {
     "name": "stderr",
     "output_type": "stream",
     "text": [
      "2024-12-12 13:10:47 - vnstock3.common.data.data_explorer - WARNING - Thông tin niêm yết & giao dịch sẽ được truy xuất từ TCBS\n"
     ]
    },
    {
     "name": "stdout",
     "output_type": "stream",
     "text": [
      "VIC\n"
     ]
    },
    {
     "name": "stderr",
     "output_type": "stream",
     "text": [
      "2024-12-12 13:11:02 - vnstock3.common.data.data_explorer - WARNING - Thông tin niêm yết & giao dịch sẽ được truy xuất từ TCBS\n"
     ]
    },
    {
     "name": "stdout",
     "output_type": "stream",
     "text": [
      "VJC\n"
     ]
    },
    {
     "name": "stderr",
     "output_type": "stream",
     "text": [
      "2024-12-12 13:11:17 - vnstock3.common.data.data_explorer - WARNING - Thông tin niêm yết & giao dịch sẽ được truy xuất từ TCBS\n"
     ]
    },
    {
     "name": "stdout",
     "output_type": "stream",
     "text": [
      "VNM\n"
     ]
    },
    {
     "name": "stderr",
     "output_type": "stream",
     "text": [
      "2024-12-12 13:11:20 - vnstock3.common.data.data_explorer - WARNING - Thông tin niêm yết & giao dịch sẽ được truy xuất từ TCBS\n"
     ]
    },
    {
     "name": "stdout",
     "output_type": "stream",
     "text": [
      "VPB\n"
     ]
    },
    {
     "name": "stderr",
     "output_type": "stream",
     "text": [
      "2024-12-12 13:11:35 - vnstock3.common.data.data_explorer - WARNING - Thông tin niêm yết & giao dịch sẽ được truy xuất từ TCBS\n"
     ]
    },
    {
     "name": "stdout",
     "output_type": "stream",
     "text": [
      "VRE\n"
     ]
    },
    {
     "name": "stderr",
     "output_type": "stream",
     "text": [
      "2024-12-12 13:11:49 - vnstock3.common.data.data_explorer - WARNING - Thông tin niêm yết & giao dịch sẽ được truy xuất từ TCBS\n"
     ]
    }
   ],
   "source": [
    "# full_portfolio = Portfolio(['FPT', 'VNM', 'ACB'])\n",
    "full_portfolio = Portfolio(vn30_tickers)\n",
    "\n",
    "full_portfolio.create_profiles()"
   ]
  },
  {
   "cell_type": "code",
   "execution_count": 36,
   "metadata": {},
   "outputs": [],
   "source": [
    "aggregate_market_cap = full_portfolio.evaluate_smb()"
   ]
  },
  {
   "cell_type": "code",
   "execution_count": 37,
   "metadata": {},
   "outputs": [],
   "source": [
    "regression_data = full_portfolio.setup_regression(market_data, bond_data)"
   ]
  },
  {
   "cell_type": "code",
   "execution_count": 38,
   "metadata": {},
   "outputs": [
    {
     "name": "stdout",
     "output_type": "stream",
     "text": [
      "MSE train: 2.4503437114083204\n",
      "R2 train: 0.9582625448063652\n",
      "MSE test: 1.2600486992393272\n",
      "R2 test: 0.9688578378471513\n"
     ]
    }
   ],
   "source": [
    "mse_train, mse_test, r2_train, r2_test, _ = full_portfolio.ff3_metrics(regression_data, use_data = 'newest')\n",
    "print(f'MSE train: {mse_train}')\n",
    "print(f'R2 train: {r2_train}')\n",
    "\n",
    "print(f'MSE test: {mse_test}')\n",
    "print(f'R2 test: {r2_test}')"
   ]
  },
  {
   "cell_type": "code",
   "execution_count": 39,
   "metadata": {},
   "outputs": [],
   "source": [
    "cutoff = round((len(regression_data) * 60/100))"
   ]
  },
  {
   "cell_type": "code",
   "execution_count": 40,
   "metadata": {},
   "outputs": [
    {
     "data": {
      "text/plain": [
       "15.049826240220664"
      ]
     },
     "execution_count": 40,
     "metadata": {},
     "output_type": "execute_result"
    }
   ],
   "source": [
    "price_df = pd.DataFrame([], columns= vn30_tickers, index = full_portfolio.data[vn30_tickers[0]].history.index)\n",
    "for index in price_df.index:\n",
    "    for ticker in vn30_tickers:\n",
    "        price_df.loc[index, ticker] = full_portfolio.data[ticker].history.loc[index, 'monthly_profit']\n",
    "price_df['average_monthly_profit'] = price_df.mean(axis = 1)\n",
    "price_df['date'] = full_portfolio.data[vn30_tickers[0]].history['time']\n",
    "vn30_market_growth = 1\n",
    "for index in price_df[cutoff:].index:\n",
    "    vn30_market_growth = vn30_market_growth * (1 + price_df.loc[index, 'average_monthly_profit'] / 100)\n",
    "vn30_market_growth = (vn30_market_growth - 1) * 100\n",
    "vn30_market_growth"
   ]
  },
  {
   "cell_type": "code",
   "execution_count": 41,
   "metadata": {},
   "outputs": [],
   "source": [
    "results = []\n",
    "\n",
    "for ticker in vn30_tickers:\n",
    "    temp = full_portfolio.create_sub_portfolio(sub_tickers= [ticker])\n",
    "    \n",
    "    _,_,_,_, [mp, smb, hml] = temp.ff3_metrics(regression_data)\n",
    "    results.append([ticker, mp, smb, hml])\n",
    "\n",
    "    del temp\n"
   ]
  },
  {
   "cell_type": "code",
   "execution_count": 42,
   "metadata": {},
   "outputs": [],
   "source": [
    "mp_results = sorted(results, key = lambda x : x[1])\n",
    "smb_results = sorted(results, key = lambda x : x[2])\n",
    "hml_results = sorted(results, key = lambda x : x[3])\n"
   ]
  },
  {
   "cell_type": "code",
   "execution_count": 43,
   "metadata": {},
   "outputs": [],
   "source": [
    "import itertools\n",
    "\n",
    "strategies = [list(i) for i in list(itertools.product([0, 1], repeat=3))]"
   ]
  },
  {
   "cell_type": "code",
   "execution_count": null,
   "metadata": {},
   "outputs": [],
   "source": [
    "portfolios = []\n",
    "for strategy in strategies:\n",
    "    portfolio = []\n",
    "    if strategy[0] == 0:\n",
    "        portfolio.extend([i[0] for i in mp_results][:2])\n",
    "    else:\n",
    "        portfolio.extend([i[0] for i in mp_results[::-1]][:2])\n",
    "    if strategy[1] == 0:\n",
    "        portfolio.extend([i[0] for i in smb_results][:2])\n",
    "    else:\n",
    "        portfolio.extend([i[0] for i in smb_results[::-1]][:2])\n",
    "\n",
    "    if strategy[2] == 0:\n",
    "        portfolio.extend([i[0] for i in hml_results][:2])\n",
    "    else:\n",
    "        portfolio.extend([i[0] for i in hml_results[::-1]][:2])\n",
    "    portfolios.append(list(set(portfolio)))"
   ]
  },
  {
   "cell_type": "code",
   "execution_count": 45,
   "metadata": {},
   "outputs": [
    {
     "data": {
      "text/plain": [
       "[['TPB', 'BCM', 'GAS', 'MBB'],\n",
       " ['BCM', 'GAS', 'MWG', 'POW'],\n",
       " ['TPB', 'BCM', 'GAS', 'SSI', 'VIB', 'MBB'],\n",
       " ['POW', 'MWG', 'BCM', 'GAS', 'SSI', 'VIB'],\n",
       " ['TPB', 'GVR', 'BCM', 'GAS', 'SSI', 'MBB'],\n",
       " ['GVR', 'POW', 'MWG', 'BCM', 'GAS', 'SSI'],\n",
       " ['TPB', 'GVR', 'SSI', 'VIB', 'MBB'],\n",
       " ['GVR', 'POW', 'MWG', 'SSI', 'VIB']]"
      ]
     },
     "execution_count": 45,
     "metadata": {},
     "output_type": "execute_result"
    }
   ],
   "source": [
    "portfolios"
   ]
  },
  {
   "cell_type": "code",
   "execution_count": 46,
   "metadata": {},
   "outputs": [],
   "source": [
    "test_data = pd.DataFrame([], columns = vn30_tickers)\n",
    "for index in full_portfolio.data[vn30_tickers[0]].history.index:\n",
    "    for ticker in vn30_tickers:\n",
    "        test_data.loc[index, ticker] = full_portfolio.data[ticker].history.loc[index, 'monthly_profit']\n",
    "test_data = test_data.iloc[cutoff:]"
   ]
  },
  {
   "cell_type": "code",
   "execution_count": 47,
   "metadata": {},
   "outputs": [],
   "source": [
    "def backtest_basic(data, portfolio):\n",
    "    temp_df = pd.DataFrame([], columns = portfolio)\n",
    "    for index in data.index:\n",
    "        for ticker in portfolio:\n",
    "            temp_df.loc[index, ticker] = data.loc[index, ticker]\n",
    "    temp_df['portfolio_profit'] = temp_df.mean(axis = 1)\n",
    "    temp_df['market_growth'] = data.mean(axis = 1)\n",
    "    temp_df['date'] = full_portfolio.data[vn30_tickers[0]].history['time'].iloc[cutoff:]\n",
    "    return temp_df\n",
    "\n",
    "backtest_results = {}\n",
    "for portfolio in portfolios:\n",
    "    backtest_results[tuple(portfolio)] = backtest_basic(test_data, portfolio)\n",
    "\n",
    "metrics_df = pd.DataFrame(list(zip(strategies, portfolios)), columns = ['strategy', 'portfolio'])\n",
    "\n",
    "metrics_df['ap'] = 0\n",
    "metrics_df['al'] = 0\n",
    "metrics_df['np'] = 0\n",
    "metrics_df['wr'] = 0\n",
    "\n",
    "metrics_df['market_profit'] = 0\n",
    "\n",
    "# Average profit, average loss, net profit, win rate\n",
    "\n",
    "for portfolio in portfolios:\n",
    "    backtest_result = backtest_results[tuple(portfolio)]\n",
    "    metrics_df.loc[metrics_df['portfolio'].apply(lambda x : x == portfolio), 'ap'] = backtest_result.loc[backtest_result['portfolio_profit'] > 0, 'portfolio_profit'].mean()\n",
    "    metrics_df.loc[metrics_df['portfolio'].apply(lambda x : x == portfolio), 'al'] = backtest_result.loc[backtest_result['portfolio_profit'] < 0, 'portfolio_profit'].mean()\n",
    "    metrics_df.loc[metrics_df['portfolio'].apply(lambda x : x == portfolio), 'np'] = backtest_result['portfolio_profit'].mean()\n",
    "    metrics_df.loc[metrics_df['portfolio'].apply(lambda x : x == portfolio), 'wr'] = len(backtest_result.loc[backtest_result['portfolio_profit'] > 0, 'portfolio_profit']) / len(backtest_result) * 100\n",
    "\n",
    "metrics_df['market_profit'] = len(metrics_df) * [backtest_results[tuple(portfolios[0])]['market_growth'].mean()]"
   ]
  },
  {
   "cell_type": "code",
   "execution_count": 49,
   "metadata": {},
   "outputs": [
    {
     "data": {
      "text/html": [
       "<div>\n",
       "<style scoped>\n",
       "    .dataframe tbody tr th:only-of-type {\n",
       "        vertical-align: middle;\n",
       "    }\n",
       "\n",
       "    .dataframe tbody tr th {\n",
       "        vertical-align: top;\n",
       "    }\n",
       "\n",
       "    .dataframe thead th {\n",
       "        text-align: right;\n",
       "    }\n",
       "</style>\n",
       "<table border=\"1\" class=\"dataframe\">\n",
       "  <thead>\n",
       "    <tr style=\"text-align: right;\">\n",
       "      <th></th>\n",
       "      <th>strategy</th>\n",
       "      <th>portfolio</th>\n",
       "      <th>ap</th>\n",
       "      <th>al</th>\n",
       "      <th>np</th>\n",
       "      <th>wr</th>\n",
       "      <th>market_profit</th>\n",
       "    </tr>\n",
       "  </thead>\n",
       "  <tbody>\n",
       "    <tr>\n",
       "      <th>0</th>\n",
       "      <td>[0, 0, 0]</td>\n",
       "      <td>[TPB, BCM, GAS, MBB]</td>\n",
       "      <td>4.315067</td>\n",
       "      <td>-6.469168</td>\n",
       "      <td>0.463554</td>\n",
       "      <td>64.285714</td>\n",
       "      <td>0.705835</td>\n",
       "    </tr>\n",
       "    <tr>\n",
       "      <th>1</th>\n",
       "      <td>[0, 0, 1]</td>\n",
       "      <td>[BCM, GAS, MWG, POW]</td>\n",
       "      <td>5.146694</td>\n",
       "      <td>-5.460663</td>\n",
       "      <td>0.221850</td>\n",
       "      <td>53.571429</td>\n",
       "      <td>0.705835</td>\n",
       "    </tr>\n",
       "    <tr>\n",
       "      <th>2</th>\n",
       "      <td>[0, 1, 0]</td>\n",
       "      <td>[TPB, BCM, GAS, SSI, VIB, MBB]</td>\n",
       "      <td>5.520860</td>\n",
       "      <td>-7.643193</td>\n",
       "      <td>0.819413</td>\n",
       "      <td>64.285714</td>\n",
       "      <td>0.705835</td>\n",
       "    </tr>\n",
       "    <tr>\n",
       "      <th>3</th>\n",
       "      <td>[0, 1, 1]</td>\n",
       "      <td>[POW, MWG, BCM, GAS, SSI, VIB]</td>\n",
       "      <td>5.207519</td>\n",
       "      <td>-7.530361</td>\n",
       "      <td>0.658276</td>\n",
       "      <td>64.285714</td>\n",
       "      <td>0.705835</td>\n",
       "    </tr>\n",
       "    <tr>\n",
       "      <th>4</th>\n",
       "      <td>[1, 0, 0]</td>\n",
       "      <td>[TPB, GVR, BCM, GAS, SSI, MBB]</td>\n",
       "      <td>6.143531</td>\n",
       "      <td>-8.117920</td>\n",
       "      <td>1.050156</td>\n",
       "      <td>64.285714</td>\n",
       "      <td>0.705835</td>\n",
       "    </tr>\n",
       "    <tr>\n",
       "      <th>5</th>\n",
       "      <td>[1, 0, 1]</td>\n",
       "      <td>[GVR, POW, MWG, BCM, GAS, SSI]</td>\n",
       "      <td>6.218079</td>\n",
       "      <td>-7.346799</td>\n",
       "      <td>0.889020</td>\n",
       "      <td>60.714286</td>\n",
       "      <td>0.705835</td>\n",
       "    </tr>\n",
       "    <tr>\n",
       "      <th>6</th>\n",
       "      <td>[1, 1, 0]</td>\n",
       "      <td>[TPB, GVR, SSI, VIB, MBB]</td>\n",
       "      <td>7.156936</td>\n",
       "      <td>-10.613061</td>\n",
       "      <td>1.445151</td>\n",
       "      <td>67.857143</td>\n",
       "      <td>0.705835</td>\n",
       "    </tr>\n",
       "    <tr>\n",
       "      <th>7</th>\n",
       "      <td>[1, 1, 1]</td>\n",
       "      <td>[GVR, POW, MWG, SSI, VIB]</td>\n",
       "      <td>7.179302</td>\n",
       "      <td>-9.417739</td>\n",
       "      <td>1.251787</td>\n",
       "      <td>64.285714</td>\n",
       "      <td>0.705835</td>\n",
       "    </tr>\n",
       "  </tbody>\n",
       "</table>\n",
       "</div>"
      ],
      "text/plain": [
       "    strategy                       portfolio        ap         al        np  \\\n",
       "0  [0, 0, 0]            [TPB, BCM, GAS, MBB]  4.315067  -6.469168  0.463554   \n",
       "1  [0, 0, 1]            [BCM, GAS, MWG, POW]  5.146694  -5.460663  0.221850   \n",
       "2  [0, 1, 0]  [TPB, BCM, GAS, SSI, VIB, MBB]  5.520860  -7.643193  0.819413   \n",
       "3  [0, 1, 1]  [POW, MWG, BCM, GAS, SSI, VIB]  5.207519  -7.530361  0.658276   \n",
       "4  [1, 0, 0]  [TPB, GVR, BCM, GAS, SSI, MBB]  6.143531  -8.117920  1.050156   \n",
       "5  [1, 0, 1]  [GVR, POW, MWG, BCM, GAS, SSI]  6.218079  -7.346799  0.889020   \n",
       "6  [1, 1, 0]       [TPB, GVR, SSI, VIB, MBB]  7.156936 -10.613061  1.445151   \n",
       "7  [1, 1, 1]       [GVR, POW, MWG, SSI, VIB]  7.179302  -9.417739  1.251787   \n",
       "\n",
       "          wr  market_profit  \n",
       "0  64.285714       0.705835  \n",
       "1  53.571429       0.705835  \n",
       "2  64.285714       0.705835  \n",
       "3  64.285714       0.705835  \n",
       "4  64.285714       0.705835  \n",
       "5  60.714286       0.705835  \n",
       "6  67.857143       0.705835  \n",
       "7  64.285714       0.705835  "
      ]
     },
     "execution_count": 49,
     "metadata": {},
     "output_type": "execute_result"
    }
   ],
   "source": [
    "metrics_df"
   ]
  },
  {
   "cell_type": "code",
   "execution_count": 50,
   "metadata": {},
   "outputs": [],
   "source": [
    "# Explanation of coefficients:\n",
    "\n",
    "# MP: Higher beta is good in bullish markets, lower beta is good in bearish market.\n",
    "# SMB: Higher is more risky. Lower is safer\n",
    "# HML: Higher is good in economic recoveries or in mature markets. Lower is good in strong bull market.\n",
    "\n",
    "# 1 is high, 0 is low"
   ]
  },
  {
   "cell_type": "code",
   "execution_count": 51,
   "metadata": {},
   "outputs": [],
   "source": [
    "# - An adaptive algorithm utilizing the Fama French 3 model for improving portfolios\n",
    "# - "
   ]
  },
  {
   "cell_type": "code",
   "execution_count": null,
   "metadata": {},
   "outputs": [],
   "source": [
    "def total_profit(history):\n",
    "    for index in history.index:\n",
    "        total_profit = (1 + history.loc[index, 'profit']/100)\n",
    "    return (total_profit - 1) * 100"
   ]
  },
  {
   "cell_type": "code",
   "execution_count": 53,
   "metadata": {},
   "outputs": [],
   "source": [
    "def backtest_single(data, portfolio, log = False):\n",
    "    budget_single = 10000000\n",
    "    temp_df = pd.DataFrame([], columns = portfolio)\n",
    "\n",
    "    for index in data.index:\n",
    "        for ticker in portfolio:\n",
    "            temp_df.loc[index, ticker] = data.loc[index, ticker]\n",
    "    temp_df['portfolio_profit'] = temp_df.mean(axis = 1)\n",
    "    temp_df['date'] = full_portfolio.data[vn30_tickers[0]].history['time'].iloc[cutoff:]\n",
    "\n",
    "    for index in temp_df.index:\n",
    "        budget_single = budget_single * (1 + temp_df.loc[index, 'portfolio_profit'] / 100)\n",
    "        if log:\n",
    "            print(f\"Date: {temp_df.loc[index, 'date']}    Portfolio changed by: {temp_df.loc[index, 'portfolio_profit']}%    Current total assets: {budget_single}\")\n",
    "    profit_single  = ((budget_single - 10000000) / 10000000) * 100\n",
    "    if log:\n",
    "        print(f'Trading finished. Total profit: {profit_single}')\n",
    "    return temp_df, profit_single\n",
    "\n",
    "def backtest_diverse(data, portfolios, log = False):\n",
    "    temp_dfs = []\n",
    "    budget = 10000000\n",
    "\n",
    "    history = pd.DataFrame([], columns = ['date', 'profit'])\n",
    "\n",
    "    for portfolio in portfolios:\n",
    "        temp_df, _ = backtest_single(data, portfolio)\n",
    "        temp_dfs.append(temp_df)\n",
    "    for index in temp_df.index:\n",
    "        profit_month = np.mean([i.loc[index, 'portfolio_profit'] for i in temp_dfs])\n",
    "        budget = budget * (1 + profit_month / 100)\n",
    "        if log:\n",
    "            print(f\"Date: {temp_df.loc[index, 'date']}    Portfolio changed by: {profit_month}%    Current total assets: {budget}\")\n",
    "        \n",
    "        history.loc[index, 'profit'] = profit_month\n",
    "\n",
    "    profit_full  = ((budget - 10000000) / 10000000) * 100\n",
    "    if log:\n",
    "        print(f'Trading finished. Total profit: {profit_full}')\n",
    "    \n",
    "    metrics = pd.DataFrame([], columns = ['ap', 'al', 'np', 'wr'])\n",
    "    metrics['ap'] = history[history['profit'] > 0].mean()\n",
    "    metrics['al'] = history[history['profit'] < 0].mean()\n",
    "    metrics['np'] = history['profit'].mean()\n",
    "    metrics['wr'] = len(history[history['profit'] > 0]) / len(history)\n",
    "    history = history.reset_index(drop= True)\n",
    "    history['date'] = temp_df['date'].reset_index(drop = True)\n",
    "    metrics = metrics.iloc[1].to_frame()\n",
    "    \n",
    "    return history, metrics"
   ]
  },
  {
   "cell_type": "code",
   "execution_count": 54,
   "metadata": {},
   "outputs": [],
   "source": [
    "history, metrics = backtest_diverse(test_data, portfolios)"
   ]
  },
  {
   "cell_type": "code",
   "execution_count": 55,
   "metadata": {},
   "outputs": [
    {
     "data": {
      "text/html": [
       "<div>\n",
       "<style scoped>\n",
       "    .dataframe tbody tr th:only-of-type {\n",
       "        vertical-align: middle;\n",
       "    }\n",
       "\n",
       "    .dataframe tbody tr th {\n",
       "        vertical-align: top;\n",
       "    }\n",
       "\n",
       "    .dataframe thead th {\n",
       "        text-align: right;\n",
       "    }\n",
       "</style>\n",
       "<table border=\"1\" class=\"dataframe\">\n",
       "  <thead>\n",
       "    <tr style=\"text-align: right;\">\n",
       "      <th></th>\n",
       "      <th>profit</th>\n",
       "    </tr>\n",
       "  </thead>\n",
       "  <tbody>\n",
       "    <tr>\n",
       "      <th>ap</th>\n",
       "      <td>5.639423</td>\n",
       "    </tr>\n",
       "    <tr>\n",
       "      <th>al</th>\n",
       "      <td>-7.771238</td>\n",
       "    </tr>\n",
       "    <tr>\n",
       "      <th>np</th>\n",
       "      <td>0.849901</td>\n",
       "    </tr>\n",
       "    <tr>\n",
       "      <th>wr</th>\n",
       "      <td>0.642857</td>\n",
       "    </tr>\n",
       "  </tbody>\n",
       "</table>\n",
       "</div>"
      ],
      "text/plain": [
       "      profit\n",
       "ap  5.639423\n",
       "al -7.771238\n",
       "np  0.849901\n",
       "wr  0.642857"
      ]
     },
     "execution_count": 55,
     "metadata": {},
     "output_type": "execute_result"
    }
   ],
   "source": [
    "metrics"
   ]
  },
  {
   "cell_type": "code",
   "execution_count": 56,
   "metadata": {},
   "outputs": [
    {
     "data": {
      "text/plain": [
       "np.float64(16.913446247873765)"
      ]
     },
     "execution_count": 56,
     "metadata": {},
     "output_type": "execute_result"
    }
   ],
   "source": [
    "total_profit(history)"
   ]
  },
  {
   "cell_type": "code",
   "execution_count": 62,
   "metadata": {},
   "outputs": [
    {
     "data": {
      "text/plain": [
       "[['TPB', 'BCM', 'GAS', 'MBB'],\n",
       " ['BCM', 'GAS', 'MWG', 'POW'],\n",
       " ['TPB', 'BCM', 'GAS', 'SSI', 'VIB', 'MBB'],\n",
       " ['POW', 'MWG', 'BCM', 'GAS', 'SSI', 'VIB'],\n",
       " ['TPB', 'GVR', 'BCM', 'GAS', 'SSI', 'MBB'],\n",
       " ['GVR', 'POW', 'MWG', 'BCM', 'GAS', 'SSI'],\n",
       " ['TPB', 'GVR', 'SSI', 'VIB', 'MBB'],\n",
       " ['GVR', 'POW', 'MWG', 'SSI', 'VIB']]"
      ]
     },
     "execution_count": 62,
     "metadata": {},
     "output_type": "execute_result"
    }
   ],
   "source": [
    "portfolios"
   ]
  },
  {
   "cell_type": "code",
   "execution_count": 57,
   "metadata": {},
   "outputs": [],
   "source": [
    "def backtest_adaptive(data, portfolios, log = False):\n",
    "    budget = 10000000\n",
    "    temp_dfs = []\n",
    "\n",
    "    for portfolio in portfolios:\n",
    "        temp_df, _ = backtest_single(data, portfolio)\n",
    "        temp_dfs.append([portfolio, temp_df])\n",
    "    \n",
    "    history = pd.DataFrame([], columns = ['date', 'profit'])\n",
    "    chosen_portfolio = sorted(temp_dfs, key = lambda x : x[1].iloc[0]['portfolio_profit'], reverse= True)[0][0] \n",
    "    \n",
    "    for i in range(1, len(data[1:])):\n",
    "        profit = data.iloc[i][chosen_portfolio].mean()\n",
    "        budget = budget * (1 + profit / 100)\n",
    "        if log:\n",
    "            print(f\"Date: {temp_df.iloc[i]['date']}    Portfolio: {chosen_portfolio}    Portfolio changed by: {profit}%    Current total assets: {budget}\")\n",
    "        chosen_portfolio = sorted(temp_dfs, key = lambda x : x[1].iloc[i]['portfolio_profit'], reverse= True)[0][0] \n",
    "        history.loc[i, 'profit'] = profit\n",
    "    if log:\n",
    "        print(f'Trading finished. Total profit: {(budget - 10000000) / 10000000 * 100}')\n",
    "\n",
    "    metrics = pd.DataFrame([], columns = ['ap', 'al', 'np', 'wr'])\n",
    "    metrics['ap'] = history[history['profit'] > 0].mean()\n",
    "    metrics['al'] = history[history['profit'] < 0].mean()\n",
    "    metrics['np'] = history['profit'].mean()\n",
    "    metrics['wr'] = len(history[history['profit'] > 0]) / len(history)\n",
    "    history = history.reset_index(drop= True)\n",
    "    history['date'] = temp_df['date'].reset_index(drop = True)\n",
    "    metrics = metrics.iloc[1].to_frame()\n",
    "    return history, metrics"
   ]
  },
  {
   "cell_type": "code",
   "execution_count": 66,
   "metadata": {},
   "outputs": [
    {
     "data": {
      "text/plain": [
       "(          FPT        GAS portfolio_profit       date\n",
       " 42  -5.017592  -1.860465        -3.439029 2022-06-30\n",
       " 43  -3.140602  -4.399076        -3.769839 2022-07-31\n",
       " 44   4.921849   8.936062         6.928956 2022-08-31\n",
       " 45   -7.03645  -6.067678        -6.552064 2022-09-30\n",
       " 46  -6.085919   1.006211        -2.539854 2022-10-31\n",
       " 47  -1.325104  -0.811708        -1.068406 2022-11-30\n",
       " 48   3.090508  -7.898326        -2.403909 2022-12-31\n",
       " 49    8.56531   4.725363         6.645337 2023-01-31\n",
       " 50  -3.583169  -2.622445        -3.102807 2023-02-28\n",
       " 51  -1.738834  -1.452145         -1.59549 2023-03-31\n",
       " 52   -2.02984  -9.028801        -5.529321 2023-04-30\n",
       " 53   8.517797        0.0         4.258899 2023-05-31\n",
       " 54   2.268277   0.220881         1.244579 2023-06-30\n",
       " 55  15.781075   9.241845         12.51146 2023-07-31\n",
       " 56  14.291621   0.564896         7.428258 2023-08-31\n",
       " 57  -4.027493  10.391868         3.182188 2023-09-30\n",
       " 58 -10.566654 -15.543979       -13.055316 2023-10-31\n",
       " 59  10.733352  -0.143451          5.29495 2023-11-30\n",
       " 60   4.567369  -1.307283         1.630043 2023-12-31\n",
       " 61  -0.412521  -0.131004        -0.271763 2024-01-31\n",
       " 62  13.888889   2.652675         8.270782 2024-02-29\n",
       " 63   6.889174   3.620616         5.254895 2024-03-31\n",
       " 64   5.744596  -8.344752        -1.300078 2024-04-30\n",
       " 65   9.256104   8.969951         9.113028 2024-05-31\n",
       " 66  12.266112  -4.362738         3.951687 2024-06-30\n",
       " 67  -1.458333   4.303543         1.422605 2024-07-31\n",
       " 68   4.823428   4.249759         4.536594 2024-08-31\n",
       " 69  -0.224098  -3.430079        -1.827089 2024-09-30,\n",
       " 36.146519246865786)"
      ]
     },
     "execution_count": 66,
     "metadata": {},
     "output_type": "execute_result"
    }
   ],
   "source": [
    "backtest_single(test_data, ['FPT', 'GAS'])"
   ]
  },
  {
   "cell_type": "code",
   "execution_count": 64,
   "metadata": {},
   "outputs": [
    {
     "name": "stdout",
     "output_type": "stream",
     "text": [
      "Date: 2022-07-31 00:00:00    Portfolio: ['BCM', 'GAS', 'MWG', 'POW']    Portfolio changed by: -2.804556821190993%    Current total assets: 9719544.3178809\n",
      "Date: 2022-08-31 00:00:00    Portfolio: ['TPB', 'GVR', 'SSI', 'VIB', 'MBB']    Portfolio changed by: 6.613927066174645%    Current total assets: 10362387.890230065\n",
      "Date: 2022-09-30 00:00:00    Portfolio: ['BCM', 'GAS', 'MWG', 'POW']    Portfolio changed by: -8.22328745396753%    Current total assets: 9510258.946921326\n",
      "Date: 2022-10-31 00:00:00    Portfolio: ['BCM', 'GAS', 'MWG', 'POW']    Portfolio changed by: -10.885783328962631%    Current total assets: 8474992.763936188\n",
      "Date: 2022-11-30 00:00:00    Portfolio: ['TPB', 'BCM', 'GAS', 'MBB']    Portfolio changed by: 0.6273360072102251%    Current total assets: 8528159.445152821\n",
      "Date: 2022-12-31 00:00:00    Portfolio: ['TPB', 'GVR', 'SSI', 'VIB', 'MBB']    Portfolio changed by: -4.62016962507589%    Current total assets: 8134144.01288983\n",
      "Date: 2023-01-31 00:00:00    Portfolio: ['TPB', 'BCM', 'GAS', 'MBB']    Portfolio changed by: 10.743410424376563%    Current total assets: 9008028.48870444\n",
      "Date: 2023-02-28 00:00:00    Portfolio: ['TPB', 'GVR', 'SSI', 'VIB', 'MBB']    Portfolio changed by: -11.859946426815608%    Current total assets: 7939681.135831806\n",
      "Date: 2023-03-31 00:00:00    Portfolio: ['BCM', 'GAS', 'MWG', 'POW']    Portfolio changed by: 0.7604892422599123%    Current total assets: 8000061.556739546\n",
      "Date: 2023-04-30 00:00:00    Portfolio: ['TPB', 'GVR', 'SSI', 'VIB', 'MBB']    Portfolio changed by: 1.3672478295144566%    Current total assets: 8109442.224733888\n",
      "Date: 2023-05-31 00:00:00    Portfolio: ['TPB', 'GVR', 'SSI', 'VIB', 'MBB']    Portfolio changed by: 6.955852494443418%    Current total assets: 8673523.064008487\n",
      "Date: 2023-06-30 00:00:00    Portfolio: ['TPB', 'GVR', 'SSI', 'VIB', 'MBB']    Portfolio changed by: 8.809227389116087%    Current total assets: 9437593.433364425\n",
      "Date: 2023-07-31 00:00:00    Portfolio: ['TPB', 'GVR', 'SSI', 'VIB', 'MBB']    Portfolio changed by: 9.493355365053713%    Current total assets: 10333537.715902684\n",
      "Date: 2023-08-31 00:00:00    Portfolio: ['GVR', 'POW', 'MWG', 'SSI', 'VIB']    Portfolio changed by: 0.380771114137889%    Current total assets: 10372884.842593385\n",
      "Date: 2023-09-30 00:00:00    Portfolio: ['TPB', 'GVR', 'SSI', 'VIB', 'MBB']    Portfolio changed by: -5.885745777487314%    Current total assets: 9762363.210966824\n",
      "Date: 2023-10-31 00:00:00    Portfolio: ['TPB', 'BCM', 'GAS', 'MBB']    Portfolio changed by: -12.566742413722892%    Current total assets: 8535552.172752576\n",
      "Date: 2023-11-30 00:00:00    Portfolio: ['TPB', 'GVR', 'SSI', 'VIB', 'MBB']    Portfolio changed by: 11.655256759567896%    Current total assets: 9530392.694333764\n",
      "Date: 2023-12-31 00:00:00    Portfolio: ['TPB', 'GVR', 'SSI', 'VIB', 'MBB']    Portfolio changed by: 4.534320287022142%    Current total assets: 9962531.223705815\n",
      "Date: 2024-01-31 00:00:00    Portfolio: ['GVR', 'POW', 'MWG', 'SSI', 'VIB']    Portfolio changed by: 5.097822303628752%    Current total assets: 10470403.36243387\n",
      "Date: 2024-02-29 00:00:00    Portfolio: ['TPB', 'GVR', 'SSI', 'VIB', 'MBB']    Portfolio changed by: 12.6173233357612%    Current total assets: 11791488.009230563\n",
      "Date: 2024-03-31 00:00:00    Portfolio: ['TPB', 'GVR', 'SSI', 'VIB', 'MBB']    Portfolio changed by: 6.743776642642006%    Current total assets: 12586679.623416986\n",
      "Date: 2024-04-30 00:00:00    Portfolio: ['GVR', 'POW', 'MWG', 'SSI', 'VIB']    Portfolio changed by: -6.0548087180247006%    Current total assets: 11824580.248268496\n",
      "Date: 2024-05-31 00:00:00    Portfolio: ['GVR', 'POW', 'MWG', 'SSI', 'VIB']    Portfolio changed by: 10.944822617328628%    Current total assets: 13118759.581685161\n",
      "Date: 2024-06-30 00:00:00    Portfolio: ['BCM', 'GAS', 'MWG', 'POW']    Portfolio changed by: 4.426894188682634%    Current total assets: 13699513.187234027\n",
      "Date: 2024-07-31 00:00:00    Portfolio: ['BCM', 'GAS', 'MWG', 'POW']    Portfolio changed by: 2.808289449447841%    Current total assets: 14084235.170696836\n",
      "Date: 2024-08-31 00:00:00    Portfolio: ['TPB', 'BCM', 'GAS', 'MBB']    Portfolio changed by: 0.8520665294267196%    Current total assets: 14204242.224512089\n",
      "Trading finished. Total profit: 42.04242224512089\n"
     ]
    }
   ],
   "source": [
    "history, metrics = backtest_adaptive(test_data, portfolios, log = True)"
   ]
  },
  {
   "cell_type": "code",
   "execution_count": 59,
   "metadata": {},
   "outputs": [
    {
     "data": {
      "text/html": [
       "<div>\n",
       "<style scoped>\n",
       "    .dataframe tbody tr th:only-of-type {\n",
       "        vertical-align: middle;\n",
       "    }\n",
       "\n",
       "    .dataframe tbody tr th {\n",
       "        vertical-align: top;\n",
       "    }\n",
       "\n",
       "    .dataframe thead th {\n",
       "        text-align: right;\n",
       "    }\n",
       "</style>\n",
       "<table border=\"1\" class=\"dataframe\">\n",
       "  <thead>\n",
       "    <tr style=\"text-align: right;\">\n",
       "      <th></th>\n",
       "      <th>profit</th>\n",
       "    </tr>\n",
       "  </thead>\n",
       "  <tbody>\n",
       "    <tr>\n",
       "      <th>ap</th>\n",
       "      <td>5.857344</td>\n",
       "    </tr>\n",
       "    <tr>\n",
       "      <th>al</th>\n",
       "      <td>-7.86263</td>\n",
       "    </tr>\n",
       "    <tr>\n",
       "      <th>np</th>\n",
       "      <td>1.635813</td>\n",
       "    </tr>\n",
       "    <tr>\n",
       "      <th>wr</th>\n",
       "      <td>0.692308</td>\n",
       "    </tr>\n",
       "  </tbody>\n",
       "</table>\n",
       "</div>"
      ],
      "text/plain": [
       "      profit\n",
       "ap  5.857344\n",
       "al  -7.86263\n",
       "np  1.635813\n",
       "wr  0.692308"
      ]
     },
     "execution_count": 59,
     "metadata": {},
     "output_type": "execute_result"
    }
   ],
   "source": [
    "metrics"
   ]
  },
  {
   "cell_type": "code",
   "execution_count": 60,
   "metadata": {},
   "outputs": [
    {
     "data": {
      "text/plain": [
       "np.float64(42.04242224512085)"
      ]
     },
     "execution_count": 60,
     "metadata": {},
     "output_type": "execute_result"
    }
   ],
   "source": [
    "total_profit(history)"
   ]
  },
  {
   "cell_type": "code",
   "execution_count": 61,
   "metadata": {},
   "outputs": [
    {
     "data": {
      "text/html": [
       "<div>\n",
       "<style scoped>\n",
       "    .dataframe tbody tr th:only-of-type {\n",
       "        vertical-align: middle;\n",
       "    }\n",
       "\n",
       "    .dataframe tbody tr th {\n",
       "        vertical-align: top;\n",
       "    }\n",
       "\n",
       "    .dataframe thead th {\n",
       "        text-align: right;\n",
       "    }\n",
       "</style>\n",
       "<table border=\"1\" class=\"dataframe\">\n",
       "  <thead>\n",
       "    <tr style=\"text-align: right;\">\n",
       "      <th></th>\n",
       "      <th>time</th>\n",
       "      <th>excess_return</th>\n",
       "      <th>mp</th>\n",
       "      <th>smb</th>\n",
       "      <th>hml</th>\n",
       "      <th>rf</th>\n",
       "    </tr>\n",
       "  </thead>\n",
       "  <tbody>\n",
       "    <tr>\n",
       "      <th>42</th>\n",
       "      <td>2022-06-30 00:00:00</td>\n",
       "      <td>NaN</td>\n",
       "      <td>-7.631687</td>\n",
       "      <td>52.390626</td>\n",
       "      <td>5.178852</td>\n",
       "      <td>0.276425</td>\n",
       "    </tr>\n",
       "    <tr>\n",
       "      <th>43</th>\n",
       "      <td>2022-07-31 00:00:00</td>\n",
       "      <td>NaN</td>\n",
       "      <td>0.431216</td>\n",
       "      <td>-3.954981</td>\n",
       "      <td>-59.435625</td>\n",
       "      <td>0.297742</td>\n",
       "    </tr>\n",
       "    <tr>\n",
       "      <th>44</th>\n",
       "      <td>2022-08-31 00:00:00</td>\n",
       "      <td>NaN</td>\n",
       "      <td>5.847536</td>\n",
       "      <td>-116.466936</td>\n",
       "      <td>-126.810978</td>\n",
       "      <td>0.301693</td>\n",
       "    </tr>\n",
       "    <tr>\n",
       "      <th>45</th>\n",
       "      <td>2022-09-30 00:00:00</td>\n",
       "      <td>NaN</td>\n",
       "      <td>-11.99782</td>\n",
       "      <td>169.223225</td>\n",
       "      <td>62.237407</td>\n",
       "      <td>0.408687</td>\n",
       "    </tr>\n",
       "    <tr>\n",
       "      <th>46</th>\n",
       "      <td>2022-10-31 00:00:00</td>\n",
       "      <td>NaN</td>\n",
       "      <td>-9.624262</td>\n",
       "      <td>104.023908</td>\n",
       "      <td>-64.025647</td>\n",
       "      <td>0.422859</td>\n",
       "    </tr>\n",
       "    <tr>\n",
       "      <th>47</th>\n",
       "      <td>2022-11-30 00:00:00</td>\n",
       "      <td>NaN</td>\n",
       "      <td>1.571862</td>\n",
       "      <td>-105.910262</td>\n",
       "      <td>-67.618915</td>\n",
       "      <td>0.420472</td>\n",
       "    </tr>\n",
       "    <tr>\n",
       "      <th>48</th>\n",
       "      <td>2022-12-31 00:00:00</td>\n",
       "      <td>NaN</td>\n",
       "      <td>-4.352483</td>\n",
       "      <td>66.037685</td>\n",
       "      <td>21.919911</td>\n",
       "      <td>0.410360</td>\n",
       "    </tr>\n",
       "    <tr>\n",
       "      <th>49</th>\n",
       "      <td>2023-01-31 00:00:00</td>\n",
       "      <td>NaN</td>\n",
       "      <td>9.95712</td>\n",
       "      <td>-179.95229</td>\n",
       "      <td>-196.467941</td>\n",
       "      <td>0.378599</td>\n",
       "    </tr>\n",
       "    <tr>\n",
       "      <th>50</th>\n",
       "      <td>2023-02-28 00:00:00</td>\n",
       "      <td>NaN</td>\n",
       "      <td>-8.154559</td>\n",
       "      <td>137.08863</td>\n",
       "      <td>81.869318</td>\n",
       "      <td>0.370042</td>\n",
       "    </tr>\n",
       "    <tr>\n",
       "      <th>51</th>\n",
       "      <td>2023-03-31 00:00:00</td>\n",
       "      <td>NaN</td>\n",
       "      <td>3.615168</td>\n",
       "      <td>-62.4778</td>\n",
       "      <td>-61.224336</td>\n",
       "      <td>0.284586</td>\n",
       "    </tr>\n",
       "    <tr>\n",
       "      <th>52</th>\n",
       "      <td>2023-04-30 00:00:00</td>\n",
       "      <td>NaN</td>\n",
       "      <td>-1.733791</td>\n",
       "      <td>70.296966</td>\n",
       "      <td>94.438253</td>\n",
       "      <td>0.276021</td>\n",
       "    </tr>\n",
       "    <tr>\n",
       "      <th>53</th>\n",
       "      <td>2023-05-31 00:00:00</td>\n",
       "      <td>NaN</td>\n",
       "      <td>2.214534</td>\n",
       "      <td>-19.476729</td>\n",
       "      <td>-26.298068</td>\n",
       "      <td>0.268499</td>\n",
       "    </tr>\n",
       "    <tr>\n",
       "      <th>54</th>\n",
       "      <td>2023-06-30 00:00:00</td>\n",
       "      <td>NaN</td>\n",
       "      <td>3.960231</td>\n",
       "      <td>-82.821976</td>\n",
       "      <td>-77.160161</td>\n",
       "      <td>0.226084</td>\n",
       "    </tr>\n",
       "    <tr>\n",
       "      <th>55</th>\n",
       "      <td>2023-07-31 00:00:00</td>\n",
       "      <td>NaN</td>\n",
       "      <td>8.959003</td>\n",
       "      <td>-177.131236</td>\n",
       "      <td>-194.77378</td>\n",
       "      <td>0.210952</td>\n",
       "    </tr>\n",
       "    <tr>\n",
       "      <th>56</th>\n",
       "      <td>2023-08-31 00:00:00</td>\n",
       "      <td>NaN</td>\n",
       "      <td>-0.129606</td>\n",
       "      <td>-16.279802</td>\n",
       "      <td>-15.52394</td>\n",
       "      <td>0.223645</td>\n",
       "    </tr>\n",
       "    <tr>\n",
       "      <th>57</th>\n",
       "      <td>2023-09-30 00:00:00</td>\n",
       "      <td>NaN</td>\n",
       "      <td>-5.944029</td>\n",
       "      <td>87.515092</td>\n",
       "      <td>97.668179</td>\n",
       "      <td>0.233478</td>\n",
       "    </tr>\n",
       "    <tr>\n",
       "      <th>58</th>\n",
       "      <td>2023-10-31 00:00:00</td>\n",
       "      <td>NaN</td>\n",
       "      <td>-11.165719</td>\n",
       "      <td>212.47671</td>\n",
       "      <td>179.039431</td>\n",
       "      <td>0.252059</td>\n",
       "    </tr>\n",
       "    <tr>\n",
       "      <th>59</th>\n",
       "      <td>2023-11-30 00:00:00</td>\n",
       "      <td>NaN</td>\n",
       "      <td>6.208369</td>\n",
       "      <td>-90.487039</td>\n",
       "      <td>-86.975944</td>\n",
       "      <td>0.204843</td>\n",
       "    </tr>\n",
       "    <tr>\n",
       "      <th>60</th>\n",
       "      <td>2023-12-31 00:00:00</td>\n",
       "      <td>NaN</td>\n",
       "      <td>3.074744</td>\n",
       "      <td>-93.02135</td>\n",
       "      <td>-57.907339</td>\n",
       "      <td>0.197262</td>\n",
       "    </tr>\n",
       "    <tr>\n",
       "      <th>61</th>\n",
       "      <td>2024-01-31 00:00:00</td>\n",
       "      <td>NaN</td>\n",
       "      <td>2.843039</td>\n",
       "      <td>-60.051698</td>\n",
       "      <td>-66.087906</td>\n",
       "      <td>0.199627</td>\n",
       "    </tr>\n",
       "    <tr>\n",
       "      <th>62</th>\n",
       "      <td>2024-02-29 00:00:00</td>\n",
       "      <td>NaN</td>\n",
       "      <td>7.39131</td>\n",
       "      <td>-168.597997</td>\n",
       "      <td>-214.179018</td>\n",
       "      <td>0.202887</td>\n",
       "    </tr>\n",
       "    <tr>\n",
       "      <th>63</th>\n",
       "      <td>2024-03-31 00:00:00</td>\n",
       "      <td>NaN</td>\n",
       "      <td>2.277249</td>\n",
       "      <td>-72.243605</td>\n",
       "      <td>-79.323121</td>\n",
       "      <td>0.226084</td>\n",
       "    </tr>\n",
       "    <tr>\n",
       "      <th>64</th>\n",
       "      <td>2024-04-30 00:00:00</td>\n",
       "      <td>NaN</td>\n",
       "      <td>-6.041678</td>\n",
       "      <td>70.856689</td>\n",
       "      <td>148.994673</td>\n",
       "      <td>0.234453</td>\n",
       "    </tr>\n",
       "    <tr>\n",
       "      <th>65</th>\n",
       "      <td>2024-05-31 00:00:00</td>\n",
       "      <td>NaN</td>\n",
       "      <td>4.073353</td>\n",
       "      <td>-70.84118</td>\n",
       "      <td>-117.504329</td>\n",
       "      <td>0.242409</td>\n",
       "    </tr>\n",
       "    <tr>\n",
       "      <th>66</th>\n",
       "      <td>2024-06-30 00:00:00</td>\n",
       "      <td>NaN</td>\n",
       "      <td>-1.537108</td>\n",
       "      <td>38.898226</td>\n",
       "      <td>-11.586077</td>\n",
       "      <td>0.237295</td>\n",
       "    </tr>\n",
       "    <tr>\n",
       "      <th>67</th>\n",
       "      <td>2024-07-31 00:00:00</td>\n",
       "      <td>NaN</td>\n",
       "      <td>0.259116</td>\n",
       "      <td>-89.449645</td>\n",
       "      <td>-78.248004</td>\n",
       "      <td>0.237945</td>\n",
       "    </tr>\n",
       "    <tr>\n",
       "      <th>68</th>\n",
       "      <td>2024-08-31 00:00:00</td>\n",
       "      <td>NaN</td>\n",
       "      <td>2.352848</td>\n",
       "      <td>-76.066475</td>\n",
       "      <td>-72.551989</td>\n",
       "      <td>0.232829</td>\n",
       "    </tr>\n",
       "    <tr>\n",
       "      <th>69</th>\n",
       "      <td>2024-09-30 00:00:00</td>\n",
       "      <td>NaN</td>\n",
       "      <td>0.089219</td>\n",
       "      <td>-31.16433</td>\n",
       "      <td>-40.463093</td>\n",
       "      <td>0.227791</td>\n",
       "    </tr>\n",
       "  </tbody>\n",
       "</table>\n",
       "</div>"
      ],
      "text/plain": [
       "                   time excess_return         mp         smb         hml  \\\n",
       "42  2022-06-30 00:00:00           NaN  -7.631687   52.390626    5.178852   \n",
       "43  2022-07-31 00:00:00           NaN   0.431216   -3.954981  -59.435625   \n",
       "44  2022-08-31 00:00:00           NaN   5.847536 -116.466936 -126.810978   \n",
       "45  2022-09-30 00:00:00           NaN  -11.99782  169.223225   62.237407   \n",
       "46  2022-10-31 00:00:00           NaN  -9.624262  104.023908  -64.025647   \n",
       "47  2022-11-30 00:00:00           NaN   1.571862 -105.910262  -67.618915   \n",
       "48  2022-12-31 00:00:00           NaN  -4.352483   66.037685   21.919911   \n",
       "49  2023-01-31 00:00:00           NaN    9.95712  -179.95229 -196.467941   \n",
       "50  2023-02-28 00:00:00           NaN  -8.154559   137.08863   81.869318   \n",
       "51  2023-03-31 00:00:00           NaN   3.615168    -62.4778  -61.224336   \n",
       "52  2023-04-30 00:00:00           NaN  -1.733791   70.296966   94.438253   \n",
       "53  2023-05-31 00:00:00           NaN   2.214534  -19.476729  -26.298068   \n",
       "54  2023-06-30 00:00:00           NaN   3.960231  -82.821976  -77.160161   \n",
       "55  2023-07-31 00:00:00           NaN   8.959003 -177.131236  -194.77378   \n",
       "56  2023-08-31 00:00:00           NaN  -0.129606  -16.279802   -15.52394   \n",
       "57  2023-09-30 00:00:00           NaN  -5.944029   87.515092   97.668179   \n",
       "58  2023-10-31 00:00:00           NaN -11.165719   212.47671  179.039431   \n",
       "59  2023-11-30 00:00:00           NaN   6.208369  -90.487039  -86.975944   \n",
       "60  2023-12-31 00:00:00           NaN   3.074744   -93.02135  -57.907339   \n",
       "61  2024-01-31 00:00:00           NaN   2.843039  -60.051698  -66.087906   \n",
       "62  2024-02-29 00:00:00           NaN    7.39131 -168.597997 -214.179018   \n",
       "63  2024-03-31 00:00:00           NaN   2.277249  -72.243605  -79.323121   \n",
       "64  2024-04-30 00:00:00           NaN  -6.041678   70.856689  148.994673   \n",
       "65  2024-05-31 00:00:00           NaN   4.073353   -70.84118 -117.504329   \n",
       "66  2024-06-30 00:00:00           NaN  -1.537108   38.898226  -11.586077   \n",
       "67  2024-07-31 00:00:00           NaN   0.259116  -89.449645  -78.248004   \n",
       "68  2024-08-31 00:00:00           NaN   2.352848  -76.066475  -72.551989   \n",
       "69  2024-09-30 00:00:00           NaN   0.089219   -31.16433  -40.463093   \n",
       "\n",
       "          rf  \n",
       "42  0.276425  \n",
       "43  0.297742  \n",
       "44  0.301693  \n",
       "45  0.408687  \n",
       "46  0.422859  \n",
       "47  0.420472  \n",
       "48  0.410360  \n",
       "49  0.378599  \n",
       "50  0.370042  \n",
       "51  0.284586  \n",
       "52  0.276021  \n",
       "53  0.268499  \n",
       "54  0.226084  \n",
       "55  0.210952  \n",
       "56  0.223645  \n",
       "57  0.233478  \n",
       "58  0.252059  \n",
       "59  0.204843  \n",
       "60  0.197262  \n",
       "61  0.199627  \n",
       "62  0.202887  \n",
       "63  0.226084  \n",
       "64  0.234453  \n",
       "65  0.242409  \n",
       "66  0.237295  \n",
       "67  0.237945  \n",
       "68  0.232829  \n",
       "69  0.227791  "
      ]
     },
     "execution_count": 61,
     "metadata": {},
     "output_type": "execute_result"
    }
   ],
   "source": [
    "regression_data[cutoff:]"
   ]
  }
 ],
 "metadata": {
  "kernelspec": {
   "display_name": "Python 3",
   "language": "python",
   "name": "python3"
  },
  "language_info": {
   "codemirror_mode": {
    "name": "ipython",
    "version": 3
   },
   "file_extension": ".py",
   "mimetype": "text/x-python",
   "name": "python",
   "nbconvert_exporter": "python",
   "pygments_lexer": "ipython3",
   "version": "3.12.5"
  }
 },
 "nbformat": 4,
 "nbformat_minor": 2
}
